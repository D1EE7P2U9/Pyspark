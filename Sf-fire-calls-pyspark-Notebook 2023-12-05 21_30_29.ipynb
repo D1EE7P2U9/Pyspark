{
 "cells": [
  {
   "cell_type": "code",
   "execution_count": 0,
   "metadata": {
    "application/vnd.databricks.v1+cell": {
     "cellMetadata": {},
     "inputWidgets": {},
     "nuid": "8b899725-814c-4c65-ab60-d3dbd71ba4ff",
     "showTitle": false,
     "title": ""
    }
   },
   "outputs": [],
   "source": [
    "\"\"\" Project Description: San Francisco Fire Calls.\n",
    "\n",
    "\n",
    "Databricks Cloud Path: /databricks-datasets/learning-spark-v2/sf-fire/sf-fire-calls.csv \"\"\"\n",
    "\n",
    "\n",
    "\n",
    "# Load the given data file and create a Spark Dataframe.\n",
    "\n",
    "from pyspark.sql.functions import *\n",
    "\n",
    "raw_fire_df = spark.read \\\n",
    ".format(\"csv\") \\\n",
    ".option(\"header\", \"true\") \\\n",
    ".option(\"inferSchema\", \"true\") \\\n",
    ".load(\"/databricks-datasets/learning-spark-v2/sf-fire/sf-fire-calls.csv\")\n",
    "\n",
    "\"\"\" Problems with the data set:\n",
    "1. Column Names are not standardized.\n",
    "2. Some Date fields are of string type.\"\"\"\n",
    "\n",
    "# Column Names standardization\n",
    "renamed_fire_df = raw_fire_df \\\n",
    ".withColumnRenamed(\"Call Number\", \"CallNumber\") \\\n",
    ".withColumnRenamed(\"Unit ID\", \"UnitID\") \\\n",
    ".withColumnRenamed(\"Incident Number\", \"IncidentNumber\") \\\n",
    ".withColumnRenamed(\"Call Date\", \"CallDate\") \\\n",
    ".withColumnRenamed(\"Watch Date\", \"WatchDate\") \\\n",
    ".withColumnRenamed(\"Call Final Disposition\", \"CallFinalDisposition\") \\\n",
    ".withColumnRenamed(\"Available DtTm\", \"AvailableDtTm\") \\\n",
    ".withColumnRenamed(\"Zipcode of Incident\", \"Zipcode\") \\\n",
    ".withColumnRenamed(\"Station Area\", \"StationArea\") \\\n",
    ".withColumnRenamed(\"Final Priority\", \"FinalPriority\") \\\n",
    ".withColumnRenamed(\"ALS Unit\", \"ALSUnit\") \\\n",
    ".withColumnRenamed(\"Call Type Group\", \"CallTypeGroup\") \\\n",
    ".withColumnRenamed(\"Unit sequence in call dispatch\", \"Unitsequenceincalldispatch\") \\\n",
    ".withColumnRenamed(\"Fire Prevention District\", \"FirePreventionDistrict\") \\\n",
    ".withColumnRenamed(\"Supervisor District\", \"SupervisorDistrict\")\n",
    "\n",
    "# Converting Some Date fields from string to timestamp\n",
    "# Rounding Delay Column\n",
    "fire_df = renamed_fire_df \\\n",
    "    .withColumn(\"AvailableDtTm\", to_timestamp(\"AvailableDtTm\", \"MM/dd/yyyy hh:mm:ss a\")) \\\n",
    "    .withColumn(\"Delay\", round(\"Delay\", 2))\n",
    "\n",
    "\n",
    "\n",
    "\n",
    "\n",
    "\n"
   ]
  },
  {
   "cell_type": "code",
   "execution_count": 0,
   "metadata": {
    "application/vnd.databricks.v1+cell": {
     "cellMetadata": {
      "byteLimit": 2048000,
      "rowLimit": 10000
     },
     "inputWidgets": {},
     "nuid": "16a7c380-8a94-42f2-9a3e-25eddb6e2f89",
     "showTitle": false,
     "title": ""
    }
   },
   "outputs": [],
   "source": [
    "from pyspark.sql.functions import *"
   ]
  },
  {
   "cell_type": "code",
   "execution_count": 0,
   "metadata": {
    "application/vnd.databricks.v1+cell": {
     "cellMetadata": {
      "byteLimit": 2048000,
      "rowLimit": 10000
     },
     "inputWidgets": {},
     "nuid": "c6319111-a34a-444b-8821-41294c92642e",
     "showTitle": false,
     "title": ""
    }
   },
   "outputs": [],
   "source": [
    "raw_fire_df = spark.read \\\n",
    ".format(\"csv\") \\\n",
    ".option(\"header\", \"true\") \\\n",
    ".option(\"inferSchema\", \"true\") \\\n",
    ".load(\"/databricks-datasets/learning-spark-v2/sf-fire/sf-fire-calls.csv\")"
   ]
  },
  {
   "cell_type": "code",
   "execution_count": 0,
   "metadata": {
    "application/vnd.databricks.v1+cell": {
     "cellMetadata": {
      "byteLimit": 2048000,
      "rowLimit": 10000
     },
     "inputWidgets": {},
     "nuid": "e6ba2234-2459-45df-a9b9-0e62a3b6391f",
     "showTitle": false,
     "title": ""
    }
   },
   "outputs": [
    {
     "output_type": "stream",
     "name": "stdout",
     "output_type": "stream",
     "text": [
      "+-----------+-------+---------------+----------------+----------+----------+----------------------+--------------------+--------------------+----+-------------------+---------+------------+----+------------+--------+--------------+--------+---------------+---------+------------+------------------------------+------------------------+-------------------+---------------+--------------------+-------------+------------------+\n|Call Number|Unit ID|Incident Number|        CallType| Call Date|Watch Date|Call Final Disposition|      Available DtTm|             Address|City|Zipcode of Incident|Battalion|Station Area| Box|OrigPriority|Priority|Final Priority|ALS Unit|Call Type Group|NumAlarms|    UnitType|Unit sequence in call dispatch|Fire Prevention District|Supervisor District|   Neighborhood|            Location|        RowID|             Delay|\n+-----------+-------+---------------+----------------+----------+----------+----------------------+--------------------+--------------------+----+-------------------+---------+------------+----+------------+--------+--------------+--------+---------------+---------+------------+------------------------------+------------------------+-------------------+---------------+--------------------+-------------+------------------+\n|   20110014|    M29|        2003234|Medical Incident|2002-01-11|2002-01-10|                 Other|01/11/2002 01:58:...|   10TH ST/MARKET ST|  SF|              94103|      B02|          36|2338|           1|       1|             2|    true|           null|        1|       MEDIC|                             1|                       2|                  6|     Tenderloin|(37.7765408927183...|020110014-M29| 5.233333333333333|\n|   20110015|    M08|        2003233|Medical Incident|2002-01-11|2002-01-10|                 Other|01/11/2002 02:10:...| 300 Block of 5TH ST|  SF|              94107|      B03|          08|2243|           1|       1|             2|    true|           null|        1|       MEDIC|                             1|                       3|                  6|South of Market|(37.7792841462441...|020110015-M08|3.0833333333333335|\n|   20110016|    B02|        2003235|  Structure Fire|2002-01-11|2002-01-10|                 Other|01/11/2002 01:47:...|2000 Block of CAL...|  SF|              94109|      B04|          38|3362|           3|       3|             3|   false|           null|        1|       CHIEF|                             6|                       4|                  5|Pacific Heights|(37.7895840679362...|020110016-B02|              3.05|\n|   20110016|    B04|        2003235|  Structure Fire|2002-01-11|2002-01-10|                 Other|01/11/2002 01:51:...|2000 Block of CAL...|  SF|              94109|      B04|          38|3362|           3|       3|             3|   false|           null|        1|       CHIEF|                             3|                       4|                  5|Pacific Heights|(37.7895840679362...|020110016-B04| 2.316666666666667|\n|   20110016|     D2|        2003235|  Structure Fire|2002-01-11|2002-01-10|                 Other|01/11/2002 01:47:...|2000 Block of CAL...|  SF|              94109|      B04|          38|3362|           3|       3|             3|   false|           null|        1|       CHIEF|                             4|                       4|                  5|Pacific Heights|(37.7895840679362...| 020110016-D2|3.0166666666666666|\n|   20110016|    E03|        2003235|  Structure Fire|2002-01-11|2002-01-10|                 Other|01/11/2002 01:47:...|2000 Block of CAL...|  SF|              94109|      B04|          38|3362|           3|       3|             3|   false|           null|        1|      ENGINE|                             7|                       4|                  5|Pacific Heights|(37.7895840679362...|020110016-E03| 2.683333333333333|\n|   20110016|    E38|        2003235|  Structure Fire|2002-01-11|2002-01-10|                 Other|01/11/2002 01:51:...|2000 Block of CAL...|  SF|              94109|      B04|          38|3362|           3|       3|             3|   false|           null|        1|      ENGINE|                             1|                       4|                  5|Pacific Heights|(37.7895840679362...|020110016-E38|               2.1|\n|   20110016|    E41|        2003235|  Structure Fire|2002-01-11|2002-01-10|                 Other|01/11/2002 01:47:...|2000 Block of CAL...|  SF|              94109|      B04|          38|3362|           3|       3|             3|   false|           null|        1|      ENGINE|                             8|                       4|                  5|Pacific Heights|(37.7895840679362...|020110016-E41| 2.716666666666667|\n|   20110016|    M03|        2003235|  Structure Fire|2002-01-11|2002-01-10|                 Other|01/11/2002 01:46:...|2000 Block of CAL...|  SF|              94109|      B04|          38|3362|           3|       3|             3|    true|           null|        1|       MEDIC|                            10|                       4|                  5|Pacific Heights|(37.7895840679362...|020110016-M03|2.7666666666666666|\n|   20110016|    RS1|        2003235|  Structure Fire|2002-01-11|2002-01-10|                 Other|01/11/2002 01:46:...|2000 Block of CAL...|  SF|              94109|      B04|          38|3362|           3|       3|             3|   false|           null|        1|RESCUE SQUAD|                             9|                       4|                  5|Pacific Heights|(37.7895840679362...|020110016-RS1|3.2666666666666666|\n+-----------+-------+---------------+----------------+----------+----------+----------------------+--------------------+--------------------+----+-------------------+---------+------------+----+------------+--------+--------------+--------+---------------+---------+------------+------------------------------+------------------------+-------------------+---------------+--------------------+-------------+------------------+\nonly showing top 10 rows\n\n"
     ]
    }
   ],
   "source": [
    "raw_fire_df.show(10)"
   ]
  },
  {
   "cell_type": "code",
   "execution_count": 0,
   "metadata": {
    "application/vnd.databricks.v1+cell": {
     "cellMetadata": {
      "byteLimit": 2048000,
      "rowLimit": 10000
     },
     "inputWidgets": {},
     "nuid": "08a41525-d568-46fd-9e44-5c7d65f2fa5e",
     "showTitle": false,
     "title": ""
    }
   },
   "outputs": [],
   "source": [
    "renamed_fire_df = raw_fire_df \\\n",
    ".withColumnRenamed(\"Call Number\", \"CallNumber\") \\\n",
    ".withColumnRenamed(\"Unit ID\", \"UnitID\") \\\n",
    ".withColumnRenamed(\"Incident Number\", \"IncidentNumber\") \\\n",
    ".withColumnRenamed(\"Call Date\", \"CallDate\") \\\n",
    ".withColumnRenamed(\"Watch Date\", \"WatchDate\") \\\n",
    ".withColumnRenamed(\"Call Final Disposition\", \"CallFinalDisposition\") \\\n",
    ".withColumnRenamed(\"Available DtTm\", \"AvailableDtTm\") \\\n",
    ".withColumnRenamed(\"Zipcode of Incident\", \"Zipcode\") \\\n",
    ".withColumnRenamed(\"Station Area\", \"StationArea\") \\\n",
    ".withColumnRenamed(\"Final Priority\", \"FinalPriority\") \\\n",
    ".withColumnRenamed(\"ALS Unit\", \"ALSUnit\") \\\n",
    ".withColumnRenamed(\"Call Type Group\", \"CallTypeGroup\") \\\n",
    ".withColumnRenamed(\"Unit sequence in call dispatch\", \"Unitsequenceincalldispatch\") \\\n",
    ".withColumnRenamed(\"Fire Prevention District\", \"FirePreventionDistrict\") \\\n",
    ".withColumnRenamed(\"Supervisor District\", \"SupervisorDistrict\")"
   ]
  },
  {
   "cell_type": "code",
   "execution_count": 0,
   "metadata": {
    "application/vnd.databricks.v1+cell": {
     "cellMetadata": {
      "byteLimit": 2048000,
      "rowLimit": 10000
     },
     "inputWidgets": {},
     "nuid": "36087ebd-585f-4297-9238-487935e5f92a",
     "showTitle": false,
     "title": ""
    }
   },
   "outputs": [],
   "source": [
    "fire_df = renamed_fire_df \\\n",
    "    .withColumn(\"AvailableDtTm\", to_timestamp(\"AvailableDtTm\", \"MM/dd/yyyy hh:mm:ss a\")) \\\n",
    "    .withColumn(\"Delay\", round(\"Delay\", 2))"
   ]
  },
  {
   "cell_type": "code",
   "execution_count": 0,
   "metadata": {
    "application/vnd.databricks.v1+cell": {
     "cellMetadata": {
      "byteLimit": 2048000,
      "rowLimit": 10000
     },
     "inputWidgets": {},
     "nuid": "18855cce-bc68-4ee5-98da-e2444ac7b6bd",
     "showTitle": false,
     "title": ""
    }
   },
   "outputs": [
    {
     "output_type": "stream",
     "name": "stdout",
     "output_type": "stream",
     "text": [
      "+--------------------+\n|no_of_distinct_calls|\n+--------------------+\n|                  32|\n+--------------------+\n\n32"
     ]
    }
   ],
   "source": [
    "# Q-1) How many distinct types of calls were made to the Fire Department?\n",
    "\n",
    "\"\"\" 1. SQL Approach\n",
    "- Convert your dataframe to a temporary view\n",
    "- Run your SQL on the view \"\"\"\n",
    "\n",
    "fire_df.createOrReplaceTempView(\"fire_service_calls_view\")\n",
    "q1_sql_df = spark.sql(\"\"\"\n",
    "                      select count(distinct CallType) as no_of_distinct_calls \n",
    "                      from fire_service_calls_view \n",
    "                      \"\"\")\n",
    "q1_sql_df.show()\n",
    "\n",
    "# Dataframe Transformation Approach\n",
    "\n",
    "q1_df = fire_df.where(\"CallType is not null\") \\\n",
    "        .select(\"CallType\") \\\n",
    "        .distinct()\n",
    "display(q1_df.count())"
   ]
  },
  {
   "cell_type": "code",
   "execution_count": 0,
   "metadata": {
    "application/vnd.databricks.v1+cell": {
     "cellMetadata": {
      "byteLimit": 2048000,
      "rowLimit": 10000
     },
     "inputWidgets": {},
     "nuid": "67d2e88c-d99e-4f38-9f53-26b71375ee97",
     "showTitle": false,
     "title": ""
    }
   },
   "outputs": [
    {
     "output_type": "stream",
     "name": "stdout",
     "output_type": "stream",
     "text": [
      "+--------------------+\n|            CallType|\n+--------------------+\n|Elevator / Escala...|\n|  Aircraft Emergency|\n|              Alarms|\n|Odor (Strange / U...|\n|Citizen Assist / ...|\n|              HazMat|\n|           Oil Spill|\n|        Vehicle Fire|\n|  Suspicious Package|\n|               Other|\n|        Outside Fire|\n|       Assist Police|\n|Gas Leak (Natural...|\n|        Water Rescue|\n|   Electrical Hazard|\n|      Structure Fire|\n|Industrial Accidents|\n|    Medical Incident|\n|          Fuel Spill|\n|Smoke Investigati...|\n+--------------------+\nonly showing top 20 rows\n\n"
     ]
    }
   ],
   "source": [
    "# Q-2) What are distinct types of calls were made to the Fire Department?\n",
    "\n",
    "q2_df = fire_df.where(\"CallType is not null\") \\\n",
    "        .select(\"CallType\") \\\n",
    "        .distinct()\n",
    "q2_df.show()"
   ]
  },
  {
   "cell_type": "code",
   "execution_count": 0,
   "metadata": {
    "application/vnd.databricks.v1+cell": {
     "cellMetadata": {
      "byteLimit": 2048000,
      "rowLimit": 10000
     },
     "inputWidgets": {},
     "nuid": "c2421111-6279-46eb-b1cb-dc357cf46bbf",
     "showTitle": false,
     "title": ""
    }
   },
   "outputs": [
    {
     "output_type": "stream",
     "name": "stdout",
     "output_type": "stream",
     "text": [
      "+----------+-----+\n|CallNumber|Delay|\n+----------+-----+\n|  20110014| 5.23|\n|  20110017| 6.93|\n|  20110019| 6.12|\n|  20110039| 7.85|\n|  20110045|77.33|\n|  20110046| 5.42|\n|  20110055|  6.5|\n|  20110058| 6.85|\n|  20110058| 6.85|\n|  20110061| 6.33|\n|  20110062| 7.02|\n|  20110066|  9.1|\n|  20110068| 5.98|\n|  20110070| 5.42|\n|  20110070| 5.08|\n|  20110070| 8.18|\n|  20110070| 5.98|\n|  20110077|18.07|\n|  20110103| 5.55|\n|  20110103| 5.97|\n+----------+-----+\nonly showing top 20 rows\n\n"
     ]
    }
   ],
   "source": [
    "\n",
    "# Q-3) Find out all response for delayed times greater than 5 mins?\n",
    "\n",
    "q3_df = fire_df.where(\"Delay > 5\") \\\n",
    "        .select(\"CallNumber\", \"Delay\")\n",
    "q3_df.show()\n",
    "\n"
   ]
  },
  {
   "cell_type": "code",
   "execution_count": 0,
   "metadata": {
    "application/vnd.databricks.v1+cell": {
     "cellMetadata": {
      "byteLimit": 2048000,
      "rowLimit": 10000
     },
     "inputWidgets": {},
     "nuid": "91259e6a-da69-48ce-8ccf-e846b9769ce1",
     "showTitle": false,
     "title": ""
    }
   },
   "outputs": [
    {
     "output_type": "stream",
     "name": "stdout",
     "output_type": "stream",
     "text": [
      "+----------------+-------+\n|        CallType|  count|\n+----------------+-------+\n|Medical Incident|2843475|\n+----------------+-------+\nonly showing top 1 row\n\n"
     ]
    }
   ],
   "source": [
    "\n",
    "# Q-4) What were the most common call types?\n",
    "\n",
    "q4_df = fire_df.select(\"CallType\") \\\n",
    "        .groupBy(\"CallType\") \\\n",
    "        .count() \\\n",
    "        .orderBy(\"count\", ascending=False)\n",
    "q4_df.show(1)\n",
    "\n",
    "\n"
   ]
  },
  {
   "cell_type": "code",
   "execution_count": 0,
   "metadata": {
    "application/vnd.databricks.v1+cell": {
     "cellMetadata": {
      "byteLimit": 2048000,
      "rowLimit": 10000
     },
     "inputWidgets": {},
     "nuid": "74ff0897-db01-4050-8129-64b6b0e92fb2",
     "showTitle": false,
     "title": ""
    }
   },
   "outputs": [
    {
     "output_type": "stream",
     "name": "stdout",
     "output_type": "stream",
     "text": [
      "+----------------+-------+------+\n|        CallType|Zipcode| count|\n+----------------+-------+------+\n|Medical Incident|  94102|401457|\n|Medical Incident|  94103|370215|\n|Medical Incident|  94110|249279|\n|Medical Incident|  94109|238087|\n|Medical Incident|  94124|147564|\n|Medical Incident|  94112|139565|\n|Medical Incident|  94115|120087|\n|Medical Incident|  94122|107602|\n|Medical Incident|  94107|107439|\n|Medical Incident|  94133| 99050|\n|Medical Incident|  94117| 92744|\n|Medical Incident|  94134| 83569|\n|Medical Incident|  94114| 82378|\n|Medical Incident|  94118| 77817|\n|Medical Incident|  94121| 74943|\n|Medical Incident|  94116| 66742|\n|Medical Incident|  94132| 64439|\n|  Structure Fire|  94110| 57014|\n|Medical Incident|  94105| 56909|\n|  Structure Fire|  94103| 55529|\n+----------------+-------+------+\nonly showing top 20 rows\n\n"
     ]
    }
   ],
   "source": [
    "# Q-5) What zip codes accounted for most common calls?\n",
    "\n",
    "fire_df.select(\"CallType\", \"Zipcode\") \\\n",
    "    .groupBy(\"CallType\", \"Zipcode\") \\\n",
    "    .count() \\\n",
    "    .orderBy(\"count\", ascending=False) \\\n",
    "    .show()"
   ]
  },
  {
   "cell_type": "code",
   "execution_count": 0,
   "metadata": {
    "application/vnd.databricks.v1+cell": {
     "cellMetadata": {
      "byteLimit": 2048000,
      "rowLimit": 10000
     },
     "inputWidgets": {},
     "nuid": "26caf270-bd1d-4769-84e6-a26d2727d58b",
     "showTitle": false,
     "title": ""
    }
   },
   "outputs": [
    {
     "output_type": "stream",
     "name": "stdout",
     "output_type": "stream",
     "text": [
      "+--------------------+-------+\n|        Neighborhood|Zipcode|\n+--------------------+-------+\n|        Potrero Hill|  94103|\n|    Western Addition|  94102|\n|          Tenderloin|  94102|\n|            Nob Hill|  94102|\n| Castro/Upper Market|  94103|\n|             Mission|  94102|\n|     South of Market|  94102|\n|     South of Market|  94103|\n|        Hayes Valley|  94103|\n|Financial Distric...|  94102|\n|         Mission Bay|  94103|\n|          Tenderloin|  94103|\n|Financial Distric...|  94103|\n|        Hayes Valley|  94102|\n|             Mission|  94103|\n+--------------------+-------+\n\n"
     ]
    }
   ],
   "source": [
    "# Q-6) What San Francisco neighborhoods are in the zip codes 94102 and 94103\n",
    "\n",
    "fire_df.select(\"Neighborhood\", \"Zipcode\") \\\n",
    "    .where(\"Zipcode in (94102, 94103)\") \\\n",
    "    .distinct() \\\n",
    "    .show()"
   ]
  },
  {
   "cell_type": "code",
   "execution_count": 0,
   "metadata": {
    "application/vnd.databricks.v1+cell": {
     "cellMetadata": {
      "byteLimit": 2048000,
      "rowLimit": 10000
     },
     "inputWidgets": {},
     "nuid": "f25709d4-bae0-4885-904e-f1a94e0f4981",
     "showTitle": false,
     "title": ""
    }
   },
   "outputs": [
    {
     "output_type": "stream",
     "name": "stdout",
     "output_type": "stream",
     "text": [
      "+-----------------+----------------------+----------------------+----------------------+\n|total_call_alarms|avg_call_response_time|min_call_response_time|max_call_response_time|\n+-----------------+----------------------+----------------------+----------------------+\n|          4403441|    3.9021698123113886|                  0.02|               1879.62|\n+-----------------+----------------------+----------------------+----------------------+\n\n"
     ]
    }
   ],
   "source": [
    "\n",
    "# Q-7) What was the sum of all call alarms, average, min and max of the response times for calls?\n",
    "\n",
    "fire_df.select(\n",
    "    sum(\"NumAlarms\").alias(\"total_call_alarms\"),\n",
    "    avg(\"Delay\").alias(\"avg_call_response_time\"),\n",
    "    min(\"Delay\").alias(\"min_call_response_time\"),\n",
    "    max(\"Delay\").alias(\"max_call_response_time\"),\n",
    ").show()\n",
    "\n",
    "\n"
   ]
  },
  {
   "cell_type": "code",
   "execution_count": 0,
   "metadata": {
    "application/vnd.databricks.v1+cell": {
     "cellMetadata": {
      "byteLimit": 2048000,
      "rowLimit": 10000
     },
     "inputWidgets": {},
     "nuid": "c539db1e-8272-4166-a1be-230373f6b374",
     "showTitle": false,
     "title": ""
    }
   },
   "outputs": [
    {
     "output_type": "stream",
     "name": "stdout",
     "output_type": "stream",
     "text": [
      "+---------+\n|call_year|\n+---------+\n|     2000|\n|     2001|\n|     2002|\n|     2003|\n|     2004|\n|     2005|\n|     2006|\n|     2007|\n|     2008|\n|     2009|\n|     2010|\n|     2011|\n|     2012|\n|     2013|\n|     2014|\n|     2015|\n|     2016|\n|     2017|\n|     2018|\n+---------+\n\n"
     ]
    }
   ],
   "source": [
    "# Q-8) How many distinct years of data is in the dataset?\n",
    "\n",
    "fire_df.select(year(\"CallDate\").alias(\"call_year\")) \\\n",
    "    .distinct() \\\n",
    "    .orderBy(\"call_year\") \\\n",
    "    .show()"
   ]
  },
  {
   "cell_type": "code",
   "execution_count": 0,
   "metadata": {
    "application/vnd.databricks.v1+cell": {
     "cellMetadata": {
      "byteLimit": 2048000,
      "rowLimit": 10000
     },
     "inputWidgets": {},
     "nuid": "18179429-d26b-4b86-9f78-c416b7cdfd2e",
     "showTitle": false,
     "title": ""
    }
   },
   "outputs": [
    {
     "output_type": "stream",
     "name": "stdout",
     "output_type": "stream",
     "text": [
      "+------------+-----+\n|week_of_year|count|\n+------------+-----+\n|           1| 6401|\n+------------+-----+\nonly showing top 1 row\n\n"
     ]
    }
   ],
   "source": [
    "# Q-9) What week of the year in 2018 had the most fire calls?\n",
    "\n",
    "fire_df.withColumn('week_of_year',weekofyear(\"CallDate\")).select(\"week_of_year\") \\\n",
    "    .filter(year(\"CallDate\") == 2018) \\\n",
    "    .groupBy(\"week_of_year\") \\\n",
    "    .count() \\\n",
    "    .orderBy(\"count\", ascending=False) \\\n",
    "    .show(1)\n"
   ]
  },
  {
   "cell_type": "code",
   "execution_count": 0,
   "metadata": {
    "application/vnd.databricks.v1+cell": {
     "cellMetadata": {
      "byteLimit": 2048000,
      "rowLimit": 10000
     },
     "inputWidgets": {},
     "nuid": "9d45715b-bb35-4121-9c12-8db3e06bbbca",
     "showTitle": false,
     "title": ""
    }
   },
   "outputs": [
    {
     "output_type": "stream",
     "name": "stdout",
     "output_type": "stream",
     "text": [
      "+------------------+------+\n|      Neighborhood| Delay|\n+------------------+------+\n|West of Twin Peaks|754.08|\n+------------------+------+\nonly showing top 1 row\n\n"
     ]
    }
   ],
   "source": [
    "\n",
    "# Q-10) What neighborhoods in San Francisco had the worst response time in 2018?\n",
    "\n",
    "fire_df.select(\"Neighborhood\", \"Delay\") \\\n",
    "    .filter(year(\"CallDate\") == 2018) \\\n",
    "    .orderBy(\"Delay\", ascending=False) \\\n",
    "    .show(1)"
   ]
  },
  {
   "cell_type": "code",
   "execution_count": 0,
   "metadata": {
    "application/vnd.databricks.v1+cell": {
     "cellMetadata": {},
     "inputWidgets": {},
     "nuid": "ccb6ec88-32f2-4c38-90ff-00d9bc34b128",
     "showTitle": false,
     "title": ""
    }
   },
   "outputs": [],
   "source": []
  }
 ],
 "metadata": {
  "application/vnd.databricks.v1+notebook": {
   "dashboards": [],
   "language": "python",
   "notebookMetadata": {
    "pythonIndentUnit": 4
   },
   "notebookName": "Sf-fire-calls-pyspark-Notebook 2023-12-05 21:30:29",
   "widgets": {}
  }
 },
 "nbformat": 4,
 "nbformat_minor": 0
}
